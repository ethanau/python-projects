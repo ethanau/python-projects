{
 "cells": [
  {
   "cell_type": "code",
   "execution_count": 1,
   "id": "84c1072b",
   "metadata": {},
   "outputs": [],
   "source": [
    "import random"
   ]
  },
  {
   "cell_type": "code",
   "execution_count": 2,
   "id": "997839a8",
   "metadata": {},
   "outputs": [],
   "source": [
    "def deal_card():\n",
    "    cards = [11, 2, 3, 4, 5, 6, 7, 8, 9, 10, 10, 10, 10]\n",
    "    return random.choice(cards)"
   ]
  },
  {
   "cell_type": "code",
   "execution_count": 3,
   "id": "3948ab82",
   "metadata": {},
   "outputs": [],
   "source": [
    "def calculate_score(cards):\n",
    "    if len(cards) == 2 and sum(cards) == 21:\n",
    "        return 0\n",
    "    if sum(cards) > 21 and 11 in cards:\n",
    "        cards.remove(11)\n",
    "        cards.append(1)\n",
    "    return sum(cards)"
   ]
  },
  {
   "cell_type": "code",
   "execution_count": 4,
   "id": "a5eb4dd5",
   "metadata": {},
   "outputs": [],
   "source": [
    "def compare(user_score, computer_score):\n",
    "    if user_score == computer_score:\n",
    "        print(\"Draw.\")\n",
    "    elif computer_score == 0 or user_score > 21:\n",
    "        print(\"You went over. You lose.\")\n",
    "    elif user_score == 0 or computer_score > 21:\n",
    "        print(\"Computer went over. You win.\")\n",
    "    elif user_score > computer_score:\n",
    "        print(\"Computer went over. You win.\")\n",
    "    else:\n",
    "        print(\"You went over. You lose 😭\")"
   ]
  },
  {
   "cell_type": "code",
   "execution_count": 5,
   "id": "8d7ca6f3",
   "metadata": {},
   "outputs": [],
   "source": [
    "def game_engine():\n",
    "\n",
    "    user_cards = []\n",
    "    computer_cards = []\n",
    "    user_score = 0\n",
    "    computer_score = 0\n",
    "\n",
    "    for _ in range(2):\n",
    "        user_cards.append(deal_card())\n",
    "        computer_cards.append(deal_card())\n",
    "    \n",
    "    is_continue = True\n",
    "        \n",
    "    while is_continue:\n",
    "\n",
    "        user_score = calculate_score(user_cards)\n",
    "        computer_score = calculate_score(computer_cards)\n",
    "\n",
    "        print(f\"    Your cards: {user_cards}, current score: {user_score}\")\n",
    "        print(f\"    Computer's first card: {computer_cards[0]}\")\n",
    "\n",
    "        if user_score * computer_score == 0 or user_score > 21:\n",
    "            is_continue = False\n",
    "\n",
    "        user_decision = input(\"Type 'y' to get another card, type 'n' to pass: \").lower()\n",
    "\n",
    "        if user_decision == 'y':\n",
    "            user_cards.append(deal_card())\n",
    "            user_score = calculate_score(user_cards)\n",
    "            if user_score > 21:\n",
    "                is_continue = False\n",
    "        else:\n",
    "            is_continue = False\n",
    "            \n",
    "    while computer_score < 17:\n",
    "        \n",
    "        computer_cards.append(deal_card())\n",
    "        computer_score = calculate_score(computer_cards)\n",
    "\n",
    "        print(f\"    Your final hand: {user_cards}, final score: {user_score}\")\n",
    "        print(f\"    Computer's final hand: {computer_cards}, final score: {computer_score}\")\n",
    "\n",
    "        compare(user_score, computer_score)"
   ]
  },
  {
   "cell_type": "code",
   "execution_count": 6,
   "id": "406dc3d4",
   "metadata": {},
   "outputs": [
    {
     "name": "stdout",
     "output_type": "stream",
     "text": [
      "Do you want to play a game of Blackjack? Type 'y' or 'n': y\n",
      "    Your cards: [3, 3], current score: 6\n",
      "    Computer's first card: 5\n",
      "Type 'y' to get another card, type 'n' to pass: y\n",
      "    Your cards: [3, 3, 4], current score: 10\n",
      "    Computer's first card: 5\n",
      "Type 'y' to get another card, type 'n' to pass: y\n",
      "    Your cards: [3, 3, 4, 11], current score: 21\n",
      "    Computer's first card: 5\n",
      "Type 'y' to get another card, type 'n' to pass: n\n",
      "    Your final hand: [3, 3, 4, 11], final score: 21\n",
      "    Computer's final hand: [5, 9, 9], final score: 23\n",
      "Computer went over. You win.\n",
      "Do you want to play a game of Blackjack? Type 'y' or 'n': n\n"
     ]
    }
   ],
   "source": [
    "while input(\"Do you want to play a game of Blackjack? Type 'y' or 'n': \") == 'y':\n",
    "    game_engine()"
   ]
  },
  {
   "cell_type": "code",
   "execution_count": null,
   "id": "5004f6ca",
   "metadata": {},
   "outputs": [],
   "source": []
  }
 ],
 "metadata": {
  "kernelspec": {
   "display_name": "Python 3",
   "language": "python",
   "name": "python3"
  },
  "language_info": {
   "codemirror_mode": {
    "name": "ipython",
    "version": 3
   },
   "file_extension": ".py",
   "mimetype": "text/x-python",
   "name": "python",
   "nbconvert_exporter": "python",
   "pygments_lexer": "ipython3",
   "version": "3.8.8"
  }
 },
 "nbformat": 4,
 "nbformat_minor": 5
}
