{
 "cells": [
  {
   "cell_type": "code",
   "execution_count": null,
   "id": "a9830281",
   "metadata": {},
   "outputs": [
    {
     "name": "stdout",
     "output_type": "stream",
     "text": [
      "What's the first number?: 2\n",
      "+\n",
      "-\n",
      "*\n",
      "/\n",
      "Pick an operation: +\n",
      "What's the next number?: 3\n",
      "2.0 + 3.0 = 5.0\n",
      "Type 'y' to continue calculating with 5.0, or type 'n' to start a new calculation: y\n",
      "Pick an operation: *\n",
      "What's the next number?: 3\n",
      "5.0 * 3.0 = 15.0\n",
      "Type 'y' to continue calculating with 15.0, or type 'n' to start a new calculation: n\n"
     ]
    }
   ],
   "source": [
    "def add(f_num, n_num):\n",
    "    return f_num + n_num\n",
    "\n",
    "\n",
    "def subtract(f_num, n_num):\n",
    "    return f_num - n_num\n",
    "\n",
    "\n",
    "def multiply(f_num, n_num):\n",
    "    return f_num * n_num\n",
    " \n",
    "    \n",
    "def divide(f_num, n_num):\n",
    "    return f_num / n_num\n",
    "\n",
    "\n",
    "# use a dictionary to store functions\n",
    "operations = {\n",
    "    \"+\": add,\n",
    "    \"-\": subtract,\n",
    "    \"*\": multiply,\n",
    "    \"/\": divide\n",
    "}\n",
    "\n",
    "def calculator():\n",
    "    \n",
    "    f_num = float(input(\"What's the first number?: \"))\n",
    "    \n",
    "    for key in operations:\n",
    "        print(key)\n",
    "        \n",
    "    is_continue = True\n",
    "\n",
    "    while is_continue:\n",
    "        \n",
    "        operation = input(\"Pick an operation: \")\n",
    "        n_num = float(input(\"What's the next number?: \"))\n",
    "        function = operations[operation]\n",
    "        result = function(f_num, n_num)\n",
    "        print(f\"{f_num} {operation} {n_num} = {result}\")\n",
    "\n",
    "        user_decision = input(f\"Type 'y' to continue calculating with {result}, or type 'n' to start a new calculation: \")\n",
    "        if user_decision == 'n':\n",
    "            is_continue = False\n",
    "            \n",
    "            # call the function itself use recursion when certain condition is met\n",
    "            calculator()\n",
    "        else:\n",
    "            f_num = result\n",
    "        \n",
    "\n",
    "calculator()"
   ]
  },
  {
   "cell_type": "code",
   "execution_count": null,
   "id": "d43c7de6",
   "metadata": {},
   "outputs": [],
   "source": []
  }
 ],
 "metadata": {
  "kernelspec": {
   "display_name": "Python 3",
   "language": "python",
   "name": "python3"
  },
  "language_info": {
   "codemirror_mode": {
    "name": "ipython",
    "version": 3
   },
   "file_extension": ".py",
   "mimetype": "text/x-python",
   "name": "python",
   "nbconvert_exporter": "python",
   "pygments_lexer": "ipython3",
   "version": "3.8.8"
  }
 },
 "nbformat": 4,
 "nbformat_minor": 5
}
